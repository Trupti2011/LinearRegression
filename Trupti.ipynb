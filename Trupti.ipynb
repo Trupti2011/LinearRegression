{
 "cells": [
  {
   "cell_type": "code",
   "execution_count": 24,
   "id": "407b93cd",
   "metadata": {},
   "outputs": [],
   "source": [
    "import pandas as pd\n",
    "import numpy as np\n",
    "from matplotlib import pyplot as plt\n",
    "from sklearn.linear_model import LinearRegression"
   ]
  },
  {
   "cell_type": "code",
   "execution_count": 25,
   "id": "78ff477c",
   "metadata": {},
   "outputs": [
    {
     "data": {
      "text/html": [
       "<div>\n",
       "<style scoped>\n",
       "    .dataframe tbody tr th:only-of-type {\n",
       "        vertical-align: middle;\n",
       "    }\n",
       "\n",
       "    .dataframe tbody tr th {\n",
       "        vertical-align: top;\n",
       "    }\n",
       "\n",
       "    .dataframe thead th {\n",
       "        text-align: right;\n",
       "    }\n",
       "</style>\n",
       "<table border=\"1\" class=\"dataframe\">\n",
       "  <thead>\n",
       "    <tr style=\"text-align: right;\">\n",
       "      <th></th>\n",
       "      <th>Species</th>\n",
       "      <th>Weight</th>\n",
       "      <th>Length1</th>\n",
       "      <th>Length2</th>\n",
       "      <th>Length3</th>\n",
       "      <th>Height</th>\n",
       "      <th>Width</th>\n",
       "    </tr>\n",
       "  </thead>\n",
       "  <tbody>\n",
       "    <tr>\n",
       "      <th>0</th>\n",
       "      <td>Bream</td>\n",
       "      <td>242.0</td>\n",
       "      <td>23.2</td>\n",
       "      <td>25.4</td>\n",
       "      <td>30.0</td>\n",
       "      <td>11.5200</td>\n",
       "      <td>4.0200</td>\n",
       "    </tr>\n",
       "    <tr>\n",
       "      <th>1</th>\n",
       "      <td>Bream</td>\n",
       "      <td>290.0</td>\n",
       "      <td>24.0</td>\n",
       "      <td>26.3</td>\n",
       "      <td>31.2</td>\n",
       "      <td>12.4800</td>\n",
       "      <td>4.3056</td>\n",
       "    </tr>\n",
       "    <tr>\n",
       "      <th>2</th>\n",
       "      <td>Bream</td>\n",
       "      <td>340.0</td>\n",
       "      <td>23.9</td>\n",
       "      <td>26.5</td>\n",
       "      <td>31.1</td>\n",
       "      <td>12.3778</td>\n",
       "      <td>4.6961</td>\n",
       "    </tr>\n",
       "    <tr>\n",
       "      <th>3</th>\n",
       "      <td>Bream</td>\n",
       "      <td>363.0</td>\n",
       "      <td>26.3</td>\n",
       "      <td>29.0</td>\n",
       "      <td>33.5</td>\n",
       "      <td>12.7300</td>\n",
       "      <td>4.4555</td>\n",
       "    </tr>\n",
       "    <tr>\n",
       "      <th>4</th>\n",
       "      <td>Bream</td>\n",
       "      <td>430.0</td>\n",
       "      <td>26.5</td>\n",
       "      <td>29.0</td>\n",
       "      <td>34.0</td>\n",
       "      <td>12.4440</td>\n",
       "      <td>5.1340</td>\n",
       "    </tr>\n",
       "  </tbody>\n",
       "</table>\n",
       "</div>"
      ],
      "text/plain": [
       "  Species  Weight  Length1  Length2  Length3   Height   Width\n",
       "0   Bream   242.0     23.2     25.4     30.0  11.5200  4.0200\n",
       "1   Bream   290.0     24.0     26.3     31.2  12.4800  4.3056\n",
       "2   Bream   340.0     23.9     26.5     31.1  12.3778  4.6961\n",
       "3   Bream   363.0     26.3     29.0     33.5  12.7300  4.4555\n",
       "4   Bream   430.0     26.5     29.0     34.0  12.4440  5.1340"
      ]
     },
     "execution_count": 25,
     "metadata": {},
     "output_type": "execute_result"
    }
   ],
   "source": [
    "data=pd.read_csv(r\"C:\\Users\\Dell\\Desktop\\MACHINE LEARNING\\Class Assessment\\Fish_dataset.csv\")\n",
    "data.head()"
   ]
  },
  {
   "cell_type": "code",
   "execution_count": 26,
   "id": "6d8d880e",
   "metadata": {
    "scrolled": true
   },
   "outputs": [
    {
     "data": {
      "text/html": [
       "<div>\n",
       "<style scoped>\n",
       "    .dataframe tbody tr th:only-of-type {\n",
       "        vertical-align: middle;\n",
       "    }\n",
       "\n",
       "    .dataframe tbody tr th {\n",
       "        vertical-align: top;\n",
       "    }\n",
       "\n",
       "    .dataframe thead th {\n",
       "        text-align: right;\n",
       "    }\n",
       "</style>\n",
       "<table border=\"1\" class=\"dataframe\">\n",
       "  <thead>\n",
       "    <tr style=\"text-align: right;\">\n",
       "      <th></th>\n",
       "      <th>Weight</th>\n",
       "      <th>Length1</th>\n",
       "      <th>Length2</th>\n",
       "      <th>Length3</th>\n",
       "      <th>Height</th>\n",
       "      <th>Width</th>\n",
       "    </tr>\n",
       "  </thead>\n",
       "  <tbody>\n",
       "    <tr>\n",
       "      <th>0</th>\n",
       "      <td>242.0</td>\n",
       "      <td>23.2</td>\n",
       "      <td>25.4</td>\n",
       "      <td>30.0</td>\n",
       "      <td>11.5200</td>\n",
       "      <td>4.0200</td>\n",
       "    </tr>\n",
       "    <tr>\n",
       "      <th>1</th>\n",
       "      <td>290.0</td>\n",
       "      <td>24.0</td>\n",
       "      <td>26.3</td>\n",
       "      <td>31.2</td>\n",
       "      <td>12.4800</td>\n",
       "      <td>4.3056</td>\n",
       "    </tr>\n",
       "    <tr>\n",
       "      <th>2</th>\n",
       "      <td>340.0</td>\n",
       "      <td>23.9</td>\n",
       "      <td>26.5</td>\n",
       "      <td>31.1</td>\n",
       "      <td>12.3778</td>\n",
       "      <td>4.6961</td>\n",
       "    </tr>\n",
       "    <tr>\n",
       "      <th>3</th>\n",
       "      <td>363.0</td>\n",
       "      <td>26.3</td>\n",
       "      <td>29.0</td>\n",
       "      <td>33.5</td>\n",
       "      <td>12.7300</td>\n",
       "      <td>4.4555</td>\n",
       "    </tr>\n",
       "    <tr>\n",
       "      <th>4</th>\n",
       "      <td>430.0</td>\n",
       "      <td>26.5</td>\n",
       "      <td>29.0</td>\n",
       "      <td>34.0</td>\n",
       "      <td>12.4440</td>\n",
       "      <td>5.1340</td>\n",
       "    </tr>\n",
       "  </tbody>\n",
       "</table>\n",
       "</div>"
      ],
      "text/plain": [
       "   Weight  Length1  Length2  Length3   Height   Width\n",
       "0   242.0     23.2     25.4     30.0  11.5200  4.0200\n",
       "1   290.0     24.0     26.3     31.2  12.4800  4.3056\n",
       "2   340.0     23.9     26.5     31.1  12.3778  4.6961\n",
       "3   363.0     26.3     29.0     33.5  12.7300  4.4555\n",
       "4   430.0     26.5     29.0     34.0  12.4440  5.1340"
      ]
     },
     "execution_count": 26,
     "metadata": {},
     "output_type": "execute_result"
    }
   ],
   "source": [
    "fish=data.drop('Species',axis=1)\n",
    "fish.head()"
   ]
  },
  {
   "cell_type": "code",
   "execution_count": 27,
   "id": "d3387e58",
   "metadata": {},
   "outputs": [
    {
     "name": "stdout",
     "output_type": "stream",
     "text": [
      "<class 'pandas.core.frame.DataFrame'>\n",
      "RangeIndex: 159 entries, 0 to 158\n",
      "Data columns (total 6 columns):\n",
      " #   Column   Non-Null Count  Dtype  \n",
      "---  ------   --------------  -----  \n",
      " 0   Weight   159 non-null    float64\n",
      " 1   Length1  159 non-null    float64\n",
      " 2   Length2  159 non-null    float64\n",
      " 3   Length3  159 non-null    float64\n",
      " 4   Height   159 non-null    float64\n",
      " 5   Width    159 non-null    float64\n",
      "dtypes: float64(6)\n",
      "memory usage: 7.6 KB\n"
     ]
    }
   ],
   "source": [
    "fish.info()"
   ]
  },
  {
   "cell_type": "code",
   "execution_count": 28,
   "id": "fd398471",
   "metadata": {},
   "outputs": [
    {
     "data": {
      "text/plain": [
       "Weight     0\n",
       "Length1    0\n",
       "Length2    0\n",
       "Length3    0\n",
       "Height     0\n",
       "Width      0\n",
       "dtype: int64"
      ]
     },
     "execution_count": 28,
     "metadata": {},
     "output_type": "execute_result"
    }
   ],
   "source": [
    "fish.isna().sum()"
   ]
  },
  {
   "cell_type": "markdown",
   "id": "99301806",
   "metadata": {},
   "source": [
    "# Answer 1:"
   ]
  },
  {
   "cell_type": "code",
   "execution_count": 29,
   "id": "2e9a8379",
   "metadata": {},
   "outputs": [
    {
     "data": {
      "image/png": "[encoded data removed]",
      "text/plain": [
       "<Figure size 640x480 with 1 Axes>"
      ]
     },
     "metadata": {},
     "output_type": "display_data"
    }
   ],
   "source": [
    "import seaborn as sns\n",
    "from matplotlib import pyplot as plt\n",
    "sns.countplot(x='Species',data=data)\n",
    "plt.show()"
   ]
  },
  {
   "cell_type": "markdown",
   "id": "f2540172",
   "metadata": {},
   "source": [
    "# Answer 2:"
   ]
  },
  {
   "cell_type": "code",
   "execution_count": 30,
   "id": "0cda0070",
   "metadata": {},
   "outputs": [
    {
     "data": {
      "text/plain": [
       "<Axes: >"
      ]
     },
     "execution_count": 30,
     "metadata": {},
     "output_type": "execute_result"
    },
    {
     "data": {
      "image/png": "[encoded data removed]",
      "text/plain": [
       "<Figure size 640x480 with 1 Axes>"
      ]
     },
     "metadata": {},
     "output_type": "display_data"
    }
   ],
   "source": [
    "sns.boxplot(data=fish)"
   ]
  },
  {
   "cell_type": "code",
   "execution_count": 31,
   "id": "edd47883",
   "metadata": {},
   "outputs": [],
   "source": [
    "for i in fish:                  # i = column name \n",
    "    if fish[i].dtypes in (\"float64\",\"int64\"): # df[i] = every column will select float & int column only\n",
    "        q1 = fish[i].quantile(0.25)  # for 1 column compute q1\n",
    "        q3 = fish[i].quantile(0.75)  # for 1 column compute q3\n",
    "        iqr = q3-q1  # for 1 column compute IQR\n",
    "        ul = q3 + 1.5*iqr # for 1 column compute UPPER LIMIT\n",
    "        ll = q1 - 1.5*iqr # for 1 column compute LOWER LIMIT \n",
    "        fish[i].clip(upper=ul,lower=ll,inplace=True)"
   ]
  },
  {
   "cell_type": "code",
   "execution_count": 32,
   "id": "350f87b6",
   "metadata": {},
   "outputs": [
    {
     "data": {
      "text/plain": [
       "<Axes: >"
      ]
     },
     "execution_count": 32,
     "metadata": {},
     "output_type": "execute_result"
    },
    {
     "data": {
      "image/png": "[encoded data removed]",
      "text/plain": [
       "<Figure size 640x480 with 1 Axes>"
      ]
     },
     "metadata": {},
     "output_type": "display_data"
    }
   ],
   "source": [
    "sns.boxplot(data=fish)"
   ]
  },
  {
   "cell_type": "code",
   "execution_count": 33,
   "id": "8264f3e2",
   "metadata": {},
   "outputs": [
    {
     "data": {
      "text/plain": [
       "<Axes: xlabel='Weight', ylabel='Count'>"
      ]
     },
     "execution_count": 33,
     "metadata": {},
     "output_type": "execute_result"
    },
    {
     "data": {
      "image/png": "[encoded data removed]",
      "text/plain": [
       "<Figure size 640x480 with 1 Axes>"
      ]
     },
     "metadata": {},
     "output_type": "display_data"
    }
   ],
   "source": [
    "fish['Weight']=np.sqrt(fish['Weight'])\n",
    "sns.histplot(x='Weight',data=fish)\n"
   ]
  },
  {
   "cell_type": "markdown",
   "id": "dacb9b76",
   "metadata": {},
   "source": [
    "# Answer 3:"
   ]
  },
  {
   "cell_type": "code",
   "execution_count": 34,
   "id": "0efc6718",
   "metadata": {},
   "outputs": [
    {
     "data": {
      "text/html": [
       "<div>\n",
       "<style scoped>\n",
       "    .dataframe tbody tr th:only-of-type {\n",
       "        vertical-align: middle;\n",
       "    }\n",
       "\n",
       "    .dataframe tbody tr th {\n",
       "        vertical-align: top;\n",
       "    }\n",
       "\n",
       "    .dataframe thead th {\n",
       "        text-align: right;\n",
       "    }\n",
       "</style>\n",
       "<table border=\"1\" class=\"dataframe\">\n",
       "  <thead>\n",
       "    <tr style=\"text-align: right;\">\n",
       "      <th></th>\n",
       "      <th>Length1</th>\n",
       "      <th>Length2</th>\n",
       "      <th>Length3</th>\n",
       "      <th>Height</th>\n",
       "      <th>Width</th>\n",
       "    </tr>\n",
       "  </thead>\n",
       "  <tbody>\n",
       "    <tr>\n",
       "      <th>0</th>\n",
       "      <td>23.2</td>\n",
       "      <td>25.4</td>\n",
       "      <td>30.0</td>\n",
       "      <td>11.5200</td>\n",
       "      <td>4.0200</td>\n",
       "    </tr>\n",
       "    <tr>\n",
       "      <th>1</th>\n",
       "      <td>24.0</td>\n",
       "      <td>26.3</td>\n",
       "      <td>31.2</td>\n",
       "      <td>12.4800</td>\n",
       "      <td>4.3056</td>\n",
       "    </tr>\n",
       "    <tr>\n",
       "      <th>2</th>\n",
       "      <td>23.9</td>\n",
       "      <td>26.5</td>\n",
       "      <td>31.1</td>\n",
       "      <td>12.3778</td>\n",
       "      <td>4.6961</td>\n",
       "    </tr>\n",
       "    <tr>\n",
       "      <th>3</th>\n",
       "      <td>26.3</td>\n",
       "      <td>29.0</td>\n",
       "      <td>33.5</td>\n",
       "      <td>12.7300</td>\n",
       "      <td>4.4555</td>\n",
       "    </tr>\n",
       "    <tr>\n",
       "      <th>4</th>\n",
       "      <td>26.5</td>\n",
       "      <td>29.0</td>\n",
       "      <td>34.0</td>\n",
       "      <td>12.4440</td>\n",
       "      <td>5.1340</td>\n",
       "    </tr>\n",
       "    <tr>\n",
       "      <th>...</th>\n",
       "      <td>...</td>\n",
       "      <td>...</td>\n",
       "      <td>...</td>\n",
       "      <td>...</td>\n",
       "      <td>...</td>\n",
       "    </tr>\n",
       "    <tr>\n",
       "      <th>154</th>\n",
       "      <td>11.5</td>\n",
       "      <td>12.2</td>\n",
       "      <td>13.4</td>\n",
       "      <td>2.0904</td>\n",
       "      <td>1.3936</td>\n",
       "    </tr>\n",
       "    <tr>\n",
       "      <th>155</th>\n",
       "      <td>11.7</td>\n",
       "      <td>12.4</td>\n",
       "      <td>13.5</td>\n",
       "      <td>2.4300</td>\n",
       "      <td>1.2690</td>\n",
       "    </tr>\n",
       "    <tr>\n",
       "      <th>156</th>\n",
       "      <td>12.1</td>\n",
       "      <td>13.0</td>\n",
       "      <td>13.8</td>\n",
       "      <td>2.2770</td>\n",
       "      <td>1.2558</td>\n",
       "    </tr>\n",
       "    <tr>\n",
       "      <th>157</th>\n",
       "      <td>13.2</td>\n",
       "      <td>14.3</td>\n",
       "      <td>15.2</td>\n",
       "      <td>2.8728</td>\n",
       "      <td>2.0672</td>\n",
       "    </tr>\n",
       "    <tr>\n",
       "      <th>158</th>\n",
       "      <td>13.8</td>\n",
       "      <td>15.0</td>\n",
       "      <td>16.2</td>\n",
       "      <td>2.9322</td>\n",
       "      <td>1.8792</td>\n",
       "    </tr>\n",
       "  </tbody>\n",
       "</table>\n",
       "<p>159 rows × 5 columns</p>\n",
       "</div>"
      ],
      "text/plain": [
       "     Length1  Length2  Length3   Height   Width\n",
       "0       23.2     25.4     30.0  11.5200  4.0200\n",
       "1       24.0     26.3     31.2  12.4800  4.3056\n",
       "2       23.9     26.5     31.1  12.3778  4.6961\n",
       "3       26.3     29.0     33.5  12.7300  4.4555\n",
       "4       26.5     29.0     34.0  12.4440  5.1340\n",
       "..       ...      ...      ...      ...     ...\n",
       "154     11.5     12.2     13.4   2.0904  1.3936\n",
       "155     11.7     12.4     13.5   2.4300  1.2690\n",
       "156     12.1     13.0     13.8   2.2770  1.2558\n",
       "157     13.2     14.3     15.2   2.8728  2.0672\n",
       "158     13.8     15.0     16.2   2.9322  1.8792\n",
       "\n",
       "[159 rows x 5 columns]"
      ]
     },
     "execution_count": 34,
     "metadata": {},
     "output_type": "execute_result"
    }
   ],
   "source": [
    "x=fish.drop(['Weight'], axis=1)\n",
    "x"
   ]
  },
  {
   "cell_type": "code",
   "execution_count": 35,
   "id": "188cacf0",
   "metadata": {},
   "outputs": [
    {
     "data": {
      "text/plain": [
       "0      15.556349\n",
       "1      17.029386\n",
       "2      18.439089\n",
       "3      19.052559\n",
       "4      20.736441\n",
       "         ...    \n",
       "154     3.492850\n",
       "155     3.660601\n",
       "156     3.492850\n",
       "157     4.438468\n",
       "158     4.460942\n",
       "Name: Weight, Length: 159, dtype: float64"
      ]
     },
     "execution_count": 35,
     "metadata": {},
     "output_type": "execute_result"
    }
   ],
   "source": [
    "y=fish['Weight']\n",
    "y"
   ]
  },
  {
   "cell_type": "code",
   "execution_count": 36,
   "id": "b2bde124",
   "metadata": {},
   "outputs": [],
   "source": [
    "from sklearn.model_selection import train_test_split\n",
    "X_train, X_test, y_train, y_test = train_test_split(x, y, train_size=0.7 ,random_state=140)"
   ]
  },
  {
   "cell_type": "code",
   "execution_count": 37,
   "id": "4f303685",
   "metadata": {
    "scrolled": true
   },
   "outputs": [
    {
     "data": {
      "text/html": [
       "<div>\n",
       "<style scoped>\n",
       "    .dataframe tbody tr th:only-of-type {\n",
       "        vertical-align: middle;\n",
       "    }\n",
       "\n",
       "    .dataframe tbody tr th {\n",
       "        vertical-align: top;\n",
       "    }\n",
       "\n",
       "    .dataframe thead th {\n",
       "        text-align: right;\n",
       "    }\n",
       "</style>\n",
       "<table border=\"1\" class=\"dataframe\">\n",
       "  <thead>\n",
       "    <tr style=\"text-align: right;\">\n",
       "      <th></th>\n",
       "      <th>Weight</th>\n",
       "      <th>Length1</th>\n",
       "      <th>Length2</th>\n",
       "      <th>Length3</th>\n",
       "      <th>Height</th>\n",
       "      <th>Width</th>\n",
       "    </tr>\n",
       "  </thead>\n",
       "  <tbody>\n",
       "    <tr>\n",
       "      <th>23</th>\n",
       "      <td>26.076810</td>\n",
       "      <td>31.8</td>\n",
       "      <td>35.0</td>\n",
       "      <td>40.6</td>\n",
       "      <td>15.4686</td>\n",
       "      <td>6.1306</td>\n",
       "    </tr>\n",
       "    <tr>\n",
       "      <th>2</th>\n",
       "      <td>18.439089</td>\n",
       "      <td>23.9</td>\n",
       "      <td>26.5</td>\n",
       "      <td>31.1</td>\n",
       "      <td>12.3778</td>\n",
       "      <td>4.6961</td>\n",
       "    </tr>\n",
       "    <tr>\n",
       "      <th>89</th>\n",
       "      <td>11.618950</td>\n",
       "      <td>20.0</td>\n",
       "      <td>22.0</td>\n",
       "      <td>23.5</td>\n",
       "      <td>5.8750</td>\n",
       "      <td>3.5250</td>\n",
       "    </tr>\n",
       "    <tr>\n",
       "      <th>26</th>\n",
       "      <td>26.832816</td>\n",
       "      <td>32.0</td>\n",
       "      <td>35.0</td>\n",
       "      <td>40.6</td>\n",
       "      <td>16.3618</td>\n",
       "      <td>6.0900</td>\n",
       "    </tr>\n",
       "    <tr>\n",
       "      <th>46</th>\n",
       "      <td>11.832160</td>\n",
       "      <td>21.0</td>\n",
       "      <td>22.5</td>\n",
       "      <td>25.0</td>\n",
       "      <td>6.5500</td>\n",
       "      <td>3.3250</td>\n",
       "    </tr>\n",
       "  </tbody>\n",
       "</table>\n",
       "</div>"
      ],
      "text/plain": [
       "       Weight  Length1  Length2  Length3   Height   Width\n",
       "23  26.076810     31.8     35.0     40.6  15.4686  6.1306\n",
       "2   18.439089     23.9     26.5     31.1  12.3778  4.6961\n",
       "89  11.618950     20.0     22.0     23.5   5.8750  3.5250\n",
       "26  26.832816     32.0     35.0     40.6  16.3618  6.0900\n",
       "46  11.832160     21.0     22.5     25.0   6.5500  3.3250"
      ]
     },
     "execution_count": 37,
     "metadata": {},
     "output_type": "execute_result"
    }
   ],
   "source": [
    "train = pd.concat([y_train, X_train], axis=1)\n",
    "train.head()"
   ]
  },
  {
   "cell_type": "code",
   "execution_count": 38,
   "id": "912b092c",
   "metadata": {},
   "outputs": [
    {
     "data": {
      "text/html": [
       "<style type=\"text/css\">\n",
       "#T_57b66_row0_col0, #T_57b66_row0_col1, #T_57b66_row0_col2, #T_57b66_row0_col3, #T_57b66_row0_col4, #T_57b66_row0_col5, #T_57b66_row1_col0, #T_57b66_row1_col1, #T_57b66_row1_col2, #T_57b66_row1_col3, #T_57b66_row1_col5, #T_57b66_row2_col0, #T_57b66_row2_col1, #T_57b66_row2_col2, #T_57b66_row2_col3, #T_57b66_row2_col5, #T_57b66_row3_col0, #T_57b66_row3_col1, #T_57b66_row3_col2, #T_57b66_row3_col3, #T_57b66_row3_col4, #T_57b66_row3_col5, #T_57b66_row4_col0, #T_57b66_row4_col3, #T_57b66_row4_col4, #T_57b66_row4_col5, #T_57b66_row5_col0, #T_57b66_row5_col1, #T_57b66_row5_col2, #T_57b66_row5_col3, #T_57b66_row5_col4, #T_57b66_row5_col5 {\n",
       "  background-color: yellow;\n",
       "}\n",
       "</style>\n",
       "<table id=\"T_57b66\">\n",
       "  <thead>\n",
       "    <tr>\n",
       "      <th class=\"blank level0\" >&nbsp;</th>\n",
       "      <th id=\"T_57b66_level0_col0\" class=\"col_heading level0 col0\" >Weight</th>\n",
       "      <th id=\"T_57b66_level0_col1\" class=\"col_heading level0 col1\" >Length1</th>\n",
       "      <th id=\"T_57b66_level0_col2\" class=\"col_heading level0 col2\" >Length2</th>\n",
       "      <th id=\"T_57b66_level0_col3\" class=\"col_heading level0 col3\" >Length3</th>\n",
       "      <th id=\"T_57b66_level0_col4\" class=\"col_heading level0 col4\" >Height</th>\n",
       "      <th id=\"T_57b66_level0_col5\" class=\"col_heading level0 col5\" >Width</th>\n",
       "    </tr>\n",
       "  </thead>\n",
       "  <tbody>\n",
       "    <tr>\n",
       "      <th id=\"T_57b66_level0_row0\" class=\"row_heading level0 row0\" >Weight</th>\n",
       "      <td id=\"T_57b66_row0_col0\" class=\"data row0 col0\" >1.000000</td>\n",
       "      <td id=\"T_57b66_row0_col1\" class=\"data row0 col1\" >0.937848</td>\n",
       "      <td id=\"T_57b66_row0_col2\" class=\"data row0 col2\" >0.942909</td>\n",
       "      <td id=\"T_57b66_row0_col3\" class=\"data row0 col3\" >0.950583</td>\n",
       "      <td id=\"T_57b66_row0_col4\" class=\"data row0 col4\" >0.814267</td>\n",
       "      <td id=\"T_57b66_row0_col5\" class=\"data row0 col5\" >0.954797</td>\n",
       "    </tr>\n",
       "    <tr>\n",
       "      <th id=\"T_57b66_level0_row1\" class=\"row_heading level0 row1\" >Length1</th>\n",
       "      <td id=\"T_57b66_row1_col0\" class=\"data row1 col0\" >0.937848</td>\n",
       "      <td id=\"T_57b66_row1_col1\" class=\"data row1 col1\" >1.000000</td>\n",
       "      <td id=\"T_57b66_row1_col2\" class=\"data row1 col2\" >0.999512</td>\n",
       "      <td id=\"T_57b66_row1_col3\" class=\"data row1 col3\" >0.992560</td>\n",
       "      <td id=\"T_57b66_row1_col4\" class=\"data row1 col4\" >0.643856</td>\n",
       "      <td id=\"T_57b66_row1_col5\" class=\"data row1 col5\" >0.879442</td>\n",
       "    </tr>\n",
       "    <tr>\n",
       "      <th id=\"T_57b66_level0_row2\" class=\"row_heading level0 row2\" >Length2</th>\n",
       "      <td id=\"T_57b66_row2_col0\" class=\"data row2 col0\" >0.942909</td>\n",
       "      <td id=\"T_57b66_row2_col1\" class=\"data row2 col1\" >0.999512</td>\n",
       "      <td id=\"T_57b66_row2_col2\" class=\"data row2 col2\" >1.000000</td>\n",
       "      <td id=\"T_57b66_row2_col3\" class=\"data row2 col3\" >0.994637</td>\n",
       "      <td id=\"T_57b66_row2_col4\" class=\"data row2 col4\" >0.659115</td>\n",
       "      <td id=\"T_57b66_row2_col5\" class=\"data row2 col5\" >0.885674</td>\n",
       "    </tr>\n",
       "    <tr>\n",
       "      <th id=\"T_57b66_level0_row3\" class=\"row_heading level0 row3\" >Length3</th>\n",
       "      <td id=\"T_57b66_row3_col0\" class=\"data row3 col0\" >0.950583</td>\n",
       "      <td id=\"T_57b66_row3_col1\" class=\"data row3 col1\" >0.992560</td>\n",
       "      <td id=\"T_57b66_row3_col2\" class=\"data row3 col2\" >0.994637</td>\n",
       "      <td id=\"T_57b66_row3_col3\" class=\"data row3 col3\" >1.000000</td>\n",
       "      <td id=\"T_57b66_row3_col4\" class=\"data row3 col4\" >0.708898</td>\n",
       "      <td id=\"T_57b66_row3_col5\" class=\"data row3 col5\" >0.885593</td>\n",
       "    </tr>\n",
       "    <tr>\n",
       "      <th id=\"T_57b66_level0_row4\" class=\"row_heading level0 row4\" >Height</th>\n",
       "      <td id=\"T_57b66_row4_col0\" class=\"data row4 col0\" >0.814267</td>\n",
       "      <td id=\"T_57b66_row4_col1\" class=\"data row4 col1\" >0.643856</td>\n",
       "      <td id=\"T_57b66_row4_col2\" class=\"data row4 col2\" >0.659115</td>\n",
       "      <td id=\"T_57b66_row4_col3\" class=\"data row4 col3\" >0.708898</td>\n",
       "      <td id=\"T_57b66_row4_col4\" class=\"data row4 col4\" >1.000000</td>\n",
       "      <td id=\"T_57b66_row4_col5\" class=\"data row4 col5\" >0.807899</td>\n",
       "    </tr>\n",
       "    <tr>\n",
       "      <th id=\"T_57b66_level0_row5\" class=\"row_heading level0 row5\" >Width</th>\n",
       "      <td id=\"T_57b66_row5_col0\" class=\"data row5 col0\" >0.954797</td>\n",
       "      <td id=\"T_57b66_row5_col1\" class=\"data row5 col1\" >0.879442</td>\n",
       "      <td id=\"T_57b66_row5_col2\" class=\"data row5 col2\" >0.885674</td>\n",
       "      <td id=\"T_57b66_row5_col3\" class=\"data row5 col3\" >0.885593</td>\n",
       "      <td id=\"T_57b66_row5_col4\" class=\"data row5 col4\" >0.807899</td>\n",
       "      <td id=\"T_57b66_row5_col5\" class=\"data row5 col5\" >1.000000</td>\n",
       "    </tr>\n",
       "  </tbody>\n",
       "</table>\n"
      ],
      "text/plain": [
       "<pandas.io.formats.style.Styler at 0x271a9279660>"
      ]
     },
     "execution_count": 38,
     "metadata": {},
     "output_type": "execute_result"
    }
   ],
   "source": [
    "Correlation = train.corr()\n",
    "Correlation.style.applymap(lambda x: 'background-color : yellow' if x > 0.7 else '')"
   ]
  },
  {
   "cell_type": "code",
   "execution_count": 39,
   "id": "bd619681",
   "metadata": {},
   "outputs": [
    {
     "data": {
      "text/plain": [
       "<Axes: >"
      ]
     },
     "execution_count": 39,
     "metadata": {},
     "output_type": "execute_result"
    },
    {
     "data": {
      "image/png": "[encoded data removed]",
      "text/plain": [
       "<Figure size 640x480 with 2 Axes>"
      ]
     },
     "metadata": {},
     "output_type": "display_data"
    }
   ],
   "source": [
    "sns.heatmap(train.corr(),annot = True)"
   ]
  },
  {
   "cell_type": "markdown",
   "id": "e3f41010",
   "metadata": {},
   "source": [
    "Correlation\n",
    "\n",
    "Lengh1,Lengh2,Lengh3,Height,Width have high impact on Weight"
   ]
  },
  {
   "cell_type": "markdown",
   "id": "74f696b3",
   "metadata": {},
   "source": [
    "# Model Builiding"
   ]
  },
  {
   "cell_type": "markdown",
   "id": "be9c4e3d",
   "metadata": {},
   "source": [
    "H0 :- There is no Linear relationship between Height and all independent Variable Vs\n",
    "\n",
    "H1 :- There is Linear relationship between Height and all independent Variable\n",
    "\n",
    "Alpha = 0.05 (5%)"
   ]
  },
  {
   "cell_type": "markdown",
   "id": "59023fa1",
   "metadata": {},
   "source": [
    "Method 2 -- Variable selection Method Forward Selection Method Backward Selection Method"
   ]
  },
  {
   "cell_type": "code",
   "execution_count": 40,
   "id": "9583d71a",
   "metadata": {},
   "outputs": [],
   "source": [
    "from sklearn.linear_model import LinearRegression"
   ]
  },
  {
   "cell_type": "code",
   "execution_count": 41,
   "id": "9131bf8a",
   "metadata": {},
   "outputs": [
    {
     "data": {
      "text/html": [
       "<style>#sk-container-id-2 {color: black;background-color: white;}#sk-container-id-2 pre{padding: 0;}#sk-container-id-2 div.sk-toggleable {background-color: white;}#sk-container-id-2 label.sk-toggleable__label {cursor: pointer;display: block;width: 100%;margin-bottom: 0;padding: 0.3em;box-sizing: border-box;text-align: center;}#sk-container-id-2 label.sk-toggleable__label-arrow:before {content: \"▸\";float: left;margin-right: 0.25em;color: #696969;}#sk-container-id-2 label.sk-toggleable__label-arrow:hover:before {color: black;}#sk-container-id-2 div.sk-estimator:hover label.sk-toggleable__label-arrow:before {color: black;}#sk-container-id-2 div.sk-toggleable__content {max-height: 0;max-width: 0;overflow: hidden;text-align: left;background-color: #f0f8ff;}#sk-container-id-2 div.sk-toggleable__content pre {margin: 0.2em;color: black;border-radius: 0.25em;background-color: #f0f8ff;}#sk-container-id-2 input.sk-toggleable__control:checked~div.sk-toggleable__content {max-height: 200px;max-width: 100%;overflow: auto;}#sk-container-id-2 input.sk-toggleable__control:checked~label.sk-toggleable__label-arrow:before {content: \"▾\";}#sk-container-id-2 div.sk-estimator input.sk-toggleable__control:checked~label.sk-toggleable__label {background-color: #d4ebff;}#sk-container-id-2 div.sk-label input.sk-toggleable__control:checked~label.sk-toggleable__label {background-color: #d4ebff;}#sk-container-id-2 input.sk-hidden--visually {border: 0;clip: rect(1px 1px 1px 1px);clip: rect(1px, 1px, 1px, 1px);height: 1px;margin: -1px;overflow: hidden;padding: 0;position: absolute;width: 1px;}#sk-container-id-2 div.sk-estimator {font-family: monospace;background-color: #f0f8ff;border: 1px dotted black;border-radius: 0.25em;box-sizing: border-box;margin-bottom: 0.5em;}#sk-container-id-2 div.sk-estimator:hover {background-color: #d4ebff;}#sk-container-id-2 div.sk-parallel-item::after {content: \"\";width: 100%;border-bottom: 1px solid gray;flex-grow: 1;}#sk-container-id-2 div.sk-label:hover label.sk-toggleable__label {background-color: #d4ebff;}#sk-container-id-2 div.sk-serial::before {content: \"\";position: absolute;border-left: 1px solid gray;box-sizing: border-box;top: 0;bottom: 0;left: 50%;z-index: 0;}#sk-container-id-2 div.sk-serial {display: flex;flex-direction: column;align-items: center;background-color: white;padding-right: 0.2em;padding-left: 0.2em;position: relative;}#sk-container-id-2 div.sk-item {position: relative;z-index: 1;}#sk-container-id-2 div.sk-parallel {display: flex;align-items: stretch;justify-content: center;background-color: white;position: relative;}#sk-container-id-2 div.sk-item::before, #sk-container-id-2 div.sk-parallel-item::before {content: \"\";position: absolute;border-left: 1px solid gray;box-sizing: border-box;top: 0;bottom: 0;left: 50%;z-index: -1;}#sk-container-id-2 div.sk-parallel-item {display: flex;flex-direction: column;z-index: 1;position: relative;background-color: white;}#sk-container-id-2 div.sk-parallel-item:first-child::after {align-self: flex-end;width: 50%;}#sk-container-id-2 div.sk-parallel-item:last-child::after {align-self: flex-start;width: 50%;}#sk-container-id-2 div.sk-parallel-item:only-child::after {width: 0;}#sk-container-id-2 div.sk-dashed-wrapped {border: 1px dashed gray;margin: 0 0.4em 0.5em 0.4em;box-sizing: border-box;padding-bottom: 0.4em;background-color: white;}#sk-container-id-2 div.sk-label label {font-family: monospace;font-weight: bold;display: inline-block;line-height: 1.2em;}#sk-container-id-2 div.sk-label-container {text-align: center;}#sk-container-id-2 div.sk-container {/* jupyter's `normalize.less` sets `[hidden] { display: none; }` but bootstrap.min.css set `[hidden] { display: none !important; }` so we also need the `!important` here to be able to override the default hidden behavior on the sphinx rendered scikit-learn.org. See: https://github.com/scikit-learn/scikit-learn/issues/21755 */display: inline-block !important;position: relative;}#sk-container-id-2 div.sk-text-repr-fallback {display: none;}</style><div id=\"sk-container-id-2\" class=\"sk-top-container\"><div class=\"sk-text-repr-fallback\"><pre>SequentialFeatureSelector(direction=&#x27;backward&#x27;, estimator=LinearRegression(),\n",
       "                          n_features_to_select=4, scoring=&#x27;r2&#x27;)</pre><b>In a Jupyter environment, please rerun this cell to show the HTML representation or trust the notebook. <br />On GitHub, the HTML representation is unable to render, please try loading this page with nbviewer.org.</b></div><div class=\"sk-container\" hidden><div class=\"sk-item sk-dashed-wrapped\"><div class=\"sk-label-container\"><div class=\"sk-label sk-toggleable\"><input class=\"sk-toggleable__control sk-hidden--visually\" id=\"sk-estimator-id-4\" type=\"checkbox\" ><label for=\"sk-estimator-id-4\" class=\"sk-toggleable__label sk-toggleable__label-arrow\">SequentialFeatureSelector</label><div class=\"sk-toggleable__content\"><pre>SequentialFeatureSelector(direction=&#x27;backward&#x27;, estimator=LinearRegression(),\n",
       "                          n_features_to_select=4, scoring=&#x27;r2&#x27;)</pre></div></div></div><div class=\"sk-parallel\"><div class=\"sk-parallel-item\"><div class=\"sk-item\"><div class=\"sk-label-container\"><div class=\"sk-label sk-toggleable\"><input class=\"sk-toggleable__control sk-hidden--visually\" id=\"sk-estimator-id-5\" type=\"checkbox\" ><label for=\"sk-estimator-id-5\" class=\"sk-toggleable__label sk-toggleable__label-arrow\">estimator: LinearRegression</label><div class=\"sk-toggleable__content\"><pre>LinearRegression()</pre></div></div></div><div class=\"sk-serial\"><div class=\"sk-item\"><div class=\"sk-estimator sk-toggleable\"><input class=\"sk-toggleable__control sk-hidden--visually\" id=\"sk-estimator-id-6\" type=\"checkbox\" ><label for=\"sk-estimator-id-6\" class=\"sk-toggleable__label sk-toggleable__label-arrow\">LinearRegression</label><div class=\"sk-toggleable__content\"><pre>LinearRegression()</pre></div></div></div></div></div></div></div></div></div></div>"
      ],
      "text/plain": [
       "SequentialFeatureSelector(direction='backward', estimator=LinearRegression(),\n",
       "                          n_features_to_select=4, scoring='r2')"
      ]
     },
     "execution_count": 41,
     "metadata": {},
     "output_type": "execute_result"
    }
   ],
   "source": [
    "from sklearn.feature_selection import SequentialFeatureSelector as sfs\n",
    "lreg = LinearRegression()\n",
    "Model3 = sfs(lreg, n_features_to_select = 4, direction='backward', scoring='r2',cv=5)\n",
    "Model3.fit(X_train,y_train)"
   ]
  },
  {
   "cell_type": "code",
   "execution_count": 42,
   "id": "6ca5c621",
   "metadata": {},
   "outputs": [
    {
     "data": {
      "text/plain": [
       "array(['Length1', 'Length2', 'Length3', 'Height', 'Width'], dtype=object)"
      ]
     },
     "execution_count": 42,
     "metadata": {},
     "output_type": "execute_result"
    }
   ],
   "source": [
    "Model3.feature_names_in_"
   ]
  },
  {
   "cell_type": "code",
   "execution_count": 43,
   "id": "5182e85f",
   "metadata": {},
   "outputs": [
    {
     "data": {
      "text/plain": [
       "array(['Length1', 'Length2', 'Height', 'Width'], dtype=object)"
      ]
     },
     "execution_count": 43,
     "metadata": {},
     "output_type": "execute_result"
    }
   ],
   "source": [
    "Model3.get_feature_names_out()"
   ]
  },
  {
   "cell_type": "markdown",
   "id": "2124a072",
   "metadata": {},
   "source": [
    "import statsmodels.formula.api as smf\n",
    "model = smf.ols(Weight,Lenght,Length2,Height,Width, data=train).fit\n",
    "model.summary()"
   ]
  },
  {
   "cell_type": "markdown",
   "id": "9179ee69",
   "metadata": {},
   "source": [
    "# Method 2 -- sklearn"
   ]
  },
  {
   "cell_type": "code",
   "execution_count": 44,
   "id": "e7a86677",
   "metadata": {},
   "outputs": [],
   "source": [
    "from sklearn.linear_model import LinearRegression"
   ]
  },
  {
   "cell_type": "code",
   "execution_count": 45,
   "id": "b3716db0",
   "metadata": {
    "scrolled": true
   },
   "outputs": [
    {
     "data": {
      "text/html": [
       "<div>\n",
       "<style scoped>\n",
       "    .dataframe tbody tr th:only-of-type {\n",
       "        vertical-align: middle;\n",
       "    }\n",
       "\n",
       "    .dataframe tbody tr th {\n",
       "        vertical-align: top;\n",
       "    }\n",
       "\n",
       "    .dataframe thead th {\n",
       "        text-align: right;\n",
       "    }\n",
       "</style>\n",
       "<table border=\"1\" class=\"dataframe\">\n",
       "  <thead>\n",
       "    <tr style=\"text-align: right;\">\n",
       "      <th></th>\n",
       "      <th>Length1</th>\n",
       "      <th>Length2</th>\n",
       "      <th>Height</th>\n",
       "      <th>Width</th>\n",
       "    </tr>\n",
       "  </thead>\n",
       "  <tbody>\n",
       "    <tr>\n",
       "      <th>23</th>\n",
       "      <td>31.8</td>\n",
       "      <td>35.0</td>\n",
       "      <td>15.4686</td>\n",
       "      <td>6.1306</td>\n",
       "    </tr>\n",
       "    <tr>\n",
       "      <th>2</th>\n",
       "      <td>23.9</td>\n",
       "      <td>26.5</td>\n",
       "      <td>12.3778</td>\n",
       "      <td>4.6961</td>\n",
       "    </tr>\n",
       "    <tr>\n",
       "      <th>89</th>\n",
       "      <td>20.0</td>\n",
       "      <td>22.0</td>\n",
       "      <td>5.8750</td>\n",
       "      <td>3.5250</td>\n",
       "    </tr>\n",
       "    <tr>\n",
       "      <th>26</th>\n",
       "      <td>32.0</td>\n",
       "      <td>35.0</td>\n",
       "      <td>16.3618</td>\n",
       "      <td>6.0900</td>\n",
       "    </tr>\n",
       "    <tr>\n",
       "      <th>46</th>\n",
       "      <td>21.0</td>\n",
       "      <td>22.5</td>\n",
       "      <td>6.5500</td>\n",
       "      <td>3.3250</td>\n",
       "    </tr>\n",
       "  </tbody>\n",
       "</table>\n",
       "</div>"
      ],
      "text/plain": [
       "    Length1  Length2   Height   Width\n",
       "23     31.8     35.0  15.4686  6.1306\n",
       "2      23.9     26.5  12.3778  4.6961\n",
       "89     20.0     22.0   5.8750  3.5250\n",
       "26     32.0     35.0  16.3618  6.0900\n",
       "46     21.0     22.5   6.5500  3.3250"
      ]
     },
     "execution_count": 45,
     "metadata": {},
     "output_type": "execute_result"
    }
   ],
   "source": [
    "X_train = X_train.loc[:,['Length1','Length2','Height','Width']]\n",
    "X_train.head()"
   ]
  },
  {
   "cell_type": "code",
   "execution_count": 46,
   "id": "06af412b",
   "metadata": {},
   "outputs": [
    {
     "data": {
      "text/html": [
       "<div>\n",
       "<style scoped>\n",
       "    .dataframe tbody tr th:only-of-type {\n",
       "        vertical-align: middle;\n",
       "    }\n",
       "\n",
       "    .dataframe tbody tr th {\n",
       "        vertical-align: top;\n",
       "    }\n",
       "\n",
       "    .dataframe thead th {\n",
       "        text-align: right;\n",
       "    }\n",
       "</style>\n",
       "<table border=\"1\" class=\"dataframe\">\n",
       "  <thead>\n",
       "    <tr style=\"text-align: right;\">\n",
       "      <th></th>\n",
       "      <th>Weight</th>\n",
       "      <th>Length1</th>\n",
       "      <th>Length2</th>\n",
       "      <th>Height</th>\n",
       "      <th>Width</th>\n",
       "    </tr>\n",
       "  </thead>\n",
       "  <tbody>\n",
       "    <tr>\n",
       "      <th>23</th>\n",
       "      <td>26.076810</td>\n",
       "      <td>31.8</td>\n",
       "      <td>35.0</td>\n",
       "      <td>15.4686</td>\n",
       "      <td>6.1306</td>\n",
       "    </tr>\n",
       "    <tr>\n",
       "      <th>2</th>\n",
       "      <td>18.439089</td>\n",
       "      <td>23.9</td>\n",
       "      <td>26.5</td>\n",
       "      <td>12.3778</td>\n",
       "      <td>4.6961</td>\n",
       "    </tr>\n",
       "    <tr>\n",
       "      <th>89</th>\n",
       "      <td>11.618950</td>\n",
       "      <td>20.0</td>\n",
       "      <td>22.0</td>\n",
       "      <td>5.8750</td>\n",
       "      <td>3.5250</td>\n",
       "    </tr>\n",
       "    <tr>\n",
       "      <th>26</th>\n",
       "      <td>26.832816</td>\n",
       "      <td>32.0</td>\n",
       "      <td>35.0</td>\n",
       "      <td>16.3618</td>\n",
       "      <td>6.0900</td>\n",
       "    </tr>\n",
       "    <tr>\n",
       "      <th>46</th>\n",
       "      <td>11.832160</td>\n",
       "      <td>21.0</td>\n",
       "      <td>22.5</td>\n",
       "      <td>6.5500</td>\n",
       "      <td>3.3250</td>\n",
       "    </tr>\n",
       "  </tbody>\n",
       "</table>\n",
       "</div>"
      ],
      "text/plain": [
       "       Weight  Length1  Length2   Height   Width\n",
       "23  26.076810     31.8     35.0  15.4686  6.1306\n",
       "2   18.439089     23.9     26.5  12.3778  4.6961\n",
       "89  11.618950     20.0     22.0   5.8750  3.5250\n",
       "26  26.832816     32.0     35.0  16.3618  6.0900\n",
       "46  11.832160     21.0     22.5   6.5500  3.3250"
      ]
     },
     "execution_count": 46,
     "metadata": {},
     "output_type": "execute_result"
    }
   ],
   "source": [
    "train = pd.concat([y_train, X_train], axis=1)\n",
    "train.head()"
   ]
  },
  {
   "cell_type": "code",
   "execution_count": null,
   "id": "e7eb044b",
   "metadata": {},
   "outputs": [],
   "source": []
  },
  {
   "cell_type": "code",
   "execution_count": 47,
   "id": "083e15fd",
   "metadata": {},
   "outputs": [
    {
     "data": {
      "text/html": [
       "<style>#sk-container-id-3 {color: black;background-color: white;}#sk-container-id-3 pre{padding: 0;}#sk-container-id-3 div.sk-toggleable {background-color: white;}#sk-container-id-3 label.sk-toggleable__label {cursor: pointer;display: block;width: 100%;margin-bottom: 0;padding: 0.3em;box-sizing: border-box;text-align: center;}#sk-container-id-3 label.sk-toggleable__label-arrow:before {content: \"▸\";float: left;margin-right: 0.25em;color: #696969;}#sk-container-id-3 label.sk-toggleable__label-arrow:hover:before {color: black;}#sk-container-id-3 div.sk-estimator:hover label.sk-toggleable__label-arrow:before {color: black;}#sk-container-id-3 div.sk-toggleable__content {max-height: 0;max-width: 0;overflow: hidden;text-align: left;background-color: #f0f8ff;}#sk-container-id-3 div.sk-toggleable__content pre {margin: 0.2em;color: black;border-radius: 0.25em;background-color: #f0f8ff;}#sk-container-id-3 input.sk-toggleable__control:checked~div.sk-toggleable__content {max-height: 200px;max-width: 100%;overflow: auto;}#sk-container-id-3 input.sk-toggleable__control:checked~label.sk-toggleable__label-arrow:before {content: \"▾\";}#sk-container-id-3 div.sk-estimator input.sk-toggleable__control:checked~label.sk-toggleable__label {background-color: #d4ebff;}#sk-container-id-3 div.sk-label input.sk-toggleable__control:checked~label.sk-toggleable__label {background-color: #d4ebff;}#sk-container-id-3 input.sk-hidden--visually {border: 0;clip: rect(1px 1px 1px 1px);clip: rect(1px, 1px, 1px, 1px);height: 1px;margin: -1px;overflow: hidden;padding: 0;position: absolute;width: 1px;}#sk-container-id-3 div.sk-estimator {font-family: monospace;background-color: #f0f8ff;border: 1px dotted black;border-radius: 0.25em;box-sizing: border-box;margin-bottom: 0.5em;}#sk-container-id-3 div.sk-estimator:hover {background-color: #d4ebff;}#sk-container-id-3 div.sk-parallel-item::after {content: \"\";width: 100%;border-bottom: 1px solid gray;flex-grow: 1;}#sk-container-id-3 div.sk-label:hover label.sk-toggleable__label {background-color: #d4ebff;}#sk-container-id-3 div.sk-serial::before {content: \"\";position: absolute;border-left: 1px solid gray;box-sizing: border-box;top: 0;bottom: 0;left: 50%;z-index: 0;}#sk-container-id-3 div.sk-serial {display: flex;flex-direction: column;align-items: center;background-color: white;padding-right: 0.2em;padding-left: 0.2em;position: relative;}#sk-container-id-3 div.sk-item {position: relative;z-index: 1;}#sk-container-id-3 div.sk-parallel {display: flex;align-items: stretch;justify-content: center;background-color: white;position: relative;}#sk-container-id-3 div.sk-item::before, #sk-container-id-3 div.sk-parallel-item::before {content: \"\";position: absolute;border-left: 1px solid gray;box-sizing: border-box;top: 0;bottom: 0;left: 50%;z-index: -1;}#sk-container-id-3 div.sk-parallel-item {display: flex;flex-direction: column;z-index: 1;position: relative;background-color: white;}#sk-container-id-3 div.sk-parallel-item:first-child::after {align-self: flex-end;width: 50%;}#sk-container-id-3 div.sk-parallel-item:last-child::after {align-self: flex-start;width: 50%;}#sk-container-id-3 div.sk-parallel-item:only-child::after {width: 0;}#sk-container-id-3 div.sk-dashed-wrapped {border: 1px dashed gray;margin: 0 0.4em 0.5em 0.4em;box-sizing: border-box;padding-bottom: 0.4em;background-color: white;}#sk-container-id-3 div.sk-label label {font-family: monospace;font-weight: bold;display: inline-block;line-height: 1.2em;}#sk-container-id-3 div.sk-label-container {text-align: center;}#sk-container-id-3 div.sk-container {/* jupyter's `normalize.less` sets `[hidden] { display: none; }` but bootstrap.min.css set `[hidden] { display: none !important; }` so we also need the `!important` here to be able to override the default hidden behavior on the sphinx rendered scikit-learn.org. See: https://github.com/scikit-learn/scikit-learn/issues/21755 */display: inline-block !important;position: relative;}#sk-container-id-3 div.sk-text-repr-fallback {display: none;}</style><div id=\"sk-container-id-3\" class=\"sk-top-container\"><div class=\"sk-text-repr-fallback\"><pre>LinearRegression()</pre><b>In a Jupyter environment, please rerun this cell to show the HTML representation or trust the notebook. <br />On GitHub, the HTML representation is unable to render, please try loading this page with nbviewer.org.</b></div><div class=\"sk-container\" hidden><div class=\"sk-item\"><div class=\"sk-estimator sk-toggleable\"><input class=\"sk-toggleable__control sk-hidden--visually\" id=\"sk-estimator-id-7\" type=\"checkbox\" checked><label for=\"sk-estimator-id-7\" class=\"sk-toggleable__label sk-toggleable__label-arrow\">LinearRegression</label><div class=\"sk-toggleable__content\"><pre>LinearRegression()</pre></div></div></div></div></div>"
      ],
      "text/plain": [
       "LinearRegression()"
      ]
     },
     "execution_count": 47,
     "metadata": {},
     "output_type": "execute_result"
    }
   ],
   "source": [
    "Model3 = LinearRegression()\n",
    "Model3.fit(X_train,y_train)"
   ]
  },
  {
   "cell_type": "code",
   "execution_count": 48,
   "id": "5e733c40",
   "metadata": {},
   "outputs": [
    {
     "data": {
      "text/plain": [
       "-6.733"
      ]
     },
     "execution_count": 48,
     "metadata": {},
     "output_type": "execute_result"
    }
   ],
   "source": [
    "np.round(Model3.intercept_,3)"
   ]
  },
  {
   "cell_type": "code",
   "execution_count": 49,
   "id": "b9d216fc",
   "metadata": {},
   "outputs": [
    {
     "data": {
      "text/plain": [
       "array([ 0.7159, -0.243 ,  0.4951,  1.8226])"
      ]
     },
     "execution_count": 49,
     "metadata": {},
     "output_type": "execute_result"
    }
   ],
   "source": [
    "np.round(Model3.coef_,4)"
   ]
  },
  {
   "cell_type": "code",
   "execution_count": 50,
   "id": "f924b32b",
   "metadata": {},
   "outputs": [
    {
     "data": {
      "text/plain": [
       "array(['Length1', 'Length2', 'Height', 'Width'], dtype=object)"
      ]
     },
     "execution_count": 50,
     "metadata": {},
     "output_type": "execute_result"
    }
   ],
   "source": [
    "Model3.feature_names_in_"
   ]
  },
  {
   "cell_type": "markdown",
   "id": "e53c910f",
   "metadata": {},
   "source": [
    "# Model"
   ]
  },
  {
   "cell_type": "markdown",
   "id": "281c2cc5",
   "metadata": {},
   "source": [
    "y = -6.733 + 0.7159 * Length1  -0.243 * Length2 +  0.4951 * Height + 1.8226* Width "
   ]
  },
  {
   "cell_type": "markdown",
   "id": "a5499699",
   "metadata": {},
   "source": [
    "# Prediction on Train"
   ]
  },
  {
   "cell_type": "code",
   "execution_count": 51,
   "id": "d7bc46ce",
   "metadata": {},
   "outputs": [
    {
     "data": {
      "text/html": [
       "<div>\n",
       "<style scoped>\n",
       "    .dataframe tbody tr th:only-of-type {\n",
       "        vertical-align: middle;\n",
       "    }\n",
       "\n",
       "    .dataframe tbody tr th {\n",
       "        vertical-align: top;\n",
       "    }\n",
       "\n",
       "    .dataframe thead th {\n",
       "        text-align: right;\n",
       "    }\n",
       "</style>\n",
       "<table border=\"1\" class=\"dataframe\">\n",
       "  <thead>\n",
       "    <tr style=\"text-align: right;\">\n",
       "      <th></th>\n",
       "      <th>Weight</th>\n",
       "      <th>Length1</th>\n",
       "      <th>Length2</th>\n",
       "      <th>Height</th>\n",
       "      <th>Width</th>\n",
       "      <th>fitted_value</th>\n",
       "      <th>Residual</th>\n",
       "      <th>Original_value</th>\n",
       "    </tr>\n",
       "  </thead>\n",
       "  <tbody>\n",
       "    <tr>\n",
       "      <th>23</th>\n",
       "      <td>26.076810</td>\n",
       "      <td>31.8</td>\n",
       "      <td>35.0</td>\n",
       "      <td>15.4686</td>\n",
       "      <td>6.1306</td>\n",
       "      <td>26.36</td>\n",
       "      <td>-0.28</td>\n",
       "      <td>694.8496</td>\n",
       "    </tr>\n",
       "    <tr>\n",
       "      <th>2</th>\n",
       "      <td>18.439089</td>\n",
       "      <td>23.9</td>\n",
       "      <td>26.5</td>\n",
       "      <td>12.3778</td>\n",
       "      <td>4.6961</td>\n",
       "      <td>18.62</td>\n",
       "      <td>-0.18</td>\n",
       "      <td>346.7044</td>\n",
       "    </tr>\n",
       "    <tr>\n",
       "      <th>89</th>\n",
       "      <td>11.618950</td>\n",
       "      <td>20.0</td>\n",
       "      <td>22.0</td>\n",
       "      <td>5.8750</td>\n",
       "      <td>3.5250</td>\n",
       "      <td>11.57</td>\n",
       "      <td>0.05</td>\n",
       "      <td>133.8649</td>\n",
       "    </tr>\n",
       "    <tr>\n",
       "      <th>26</th>\n",
       "      <td>26.832816</td>\n",
       "      <td>32.0</td>\n",
       "      <td>35.0</td>\n",
       "      <td>16.3618</td>\n",
       "      <td>6.0900</td>\n",
       "      <td>26.87</td>\n",
       "      <td>-0.04</td>\n",
       "      <td>721.9969</td>\n",
       "    </tr>\n",
       "    <tr>\n",
       "      <th>46</th>\n",
       "      <td>11.832160</td>\n",
       "      <td>21.0</td>\n",
       "      <td>22.5</td>\n",
       "      <td>6.5500</td>\n",
       "      <td>3.3250</td>\n",
       "      <td>12.14</td>\n",
       "      <td>-0.31</td>\n",
       "      <td>147.3796</td>\n",
       "    </tr>\n",
       "    <tr>\n",
       "      <th>...</th>\n",
       "      <td>...</td>\n",
       "      <td>...</td>\n",
       "      <td>...</td>\n",
       "      <td>...</td>\n",
       "      <td>...</td>\n",
       "      <td>...</td>\n",
       "      <td>...</td>\n",
       "      <td>...</td>\n",
       "    </tr>\n",
       "    <tr>\n",
       "      <th>57</th>\n",
       "      <td>17.492856</td>\n",
       "      <td>25.6</td>\n",
       "      <td>28.0</td>\n",
       "      <td>8.7780</td>\n",
       "      <td>4.6816</td>\n",
       "      <td>17.67</td>\n",
       "      <td>-0.18</td>\n",
       "      <td>312.2289</td>\n",
       "    </tr>\n",
       "    <tr>\n",
       "      <th>80</th>\n",
       "      <td>9.219544</td>\n",
       "      <td>17.8</td>\n",
       "      <td>19.6</td>\n",
       "      <td>5.1376</td>\n",
       "      <td>3.0368</td>\n",
       "      <td>9.33</td>\n",
       "      <td>-0.11</td>\n",
       "      <td>87.0489</td>\n",
       "    </tr>\n",
       "    <tr>\n",
       "      <th>150</th>\n",
       "      <td>2.949576</td>\n",
       "      <td>10.8</td>\n",
       "      <td>11.3</td>\n",
       "      <td>1.9782</td>\n",
       "      <td>1.2852</td>\n",
       "      <td>1.57</td>\n",
       "      <td>1.38</td>\n",
       "      <td>2.4649</td>\n",
       "    </tr>\n",
       "    <tr>\n",
       "      <th>151</th>\n",
       "      <td>3.162278</td>\n",
       "      <td>11.3</td>\n",
       "      <td>11.8</td>\n",
       "      <td>2.2139</td>\n",
       "      <td>1.2838</td>\n",
       "      <td>1.92</td>\n",
       "      <td>1.24</td>\n",
       "      <td>3.6864</td>\n",
       "    </tr>\n",
       "    <tr>\n",
       "      <th>104</th>\n",
       "      <td>16.278821</td>\n",
       "      <td>25.4</td>\n",
       "      <td>27.5</td>\n",
       "      <td>7.0516</td>\n",
       "      <td>4.3350</td>\n",
       "      <td>16.16</td>\n",
       "      <td>0.12</td>\n",
       "      <td>261.1456</td>\n",
       "    </tr>\n",
       "  </tbody>\n",
       "</table>\n",
       "<p>111 rows × 8 columns</p>\n",
       "</div>"
      ],
      "text/plain": [
       "        Weight  Length1  Length2   Height   Width  fitted_value  Residual  \\\n",
       "23   26.076810     31.8     35.0  15.4686  6.1306         26.36     -0.28   \n",
       "2    18.439089     23.9     26.5  12.3778  4.6961         18.62     -0.18   \n",
       "89   11.618950     20.0     22.0   5.8750  3.5250         11.57      0.05   \n",
       "26   26.832816     32.0     35.0  16.3618  6.0900         26.87     -0.04   \n",
       "46   11.832160     21.0     22.5   6.5500  3.3250         12.14     -0.31   \n",
       "..         ...      ...      ...      ...     ...           ...       ...   \n",
       "57   17.492856     25.6     28.0   8.7780  4.6816         17.67     -0.18   \n",
       "80    9.219544     17.8     19.6   5.1376  3.0368          9.33     -0.11   \n",
       "150   2.949576     10.8     11.3   1.9782  1.2852          1.57      1.38   \n",
       "151   3.162278     11.3     11.8   2.2139  1.2838          1.92      1.24   \n",
       "104  16.278821     25.4     27.5   7.0516  4.3350         16.16      0.12   \n",
       "\n",
       "     Original_value  \n",
       "23         694.8496  \n",
       "2          346.7044  \n",
       "89         133.8649  \n",
       "26         721.9969  \n",
       "46         147.3796  \n",
       "..              ...  \n",
       "57         312.2289  \n",
       "80          87.0489  \n",
       "150          2.4649  \n",
       "151          3.6864  \n",
       "104        261.1456  \n",
       "\n",
       "[111 rows x 8 columns]"
      ]
     },
     "execution_count": 51,
     "metadata": {},
     "output_type": "execute_result"
    }
   ],
   "source": [
    "import numpy as np\n",
    "train['fitted_value'] = np.round(Model3.predict(X_train),2)\n",
    "train['Residual'] = np.round(train.Weight - train.fitted_value,2)\n",
    "train['Original_value']=train.fitted_value** 2\n",
    "\n",
    "train"
   ]
  },
  {
   "cell_type": "code",
   "execution_count": 52,
   "id": "cdf3c732",
   "metadata": {},
   "outputs": [
    {
     "name": "stdout",
     "output_type": "stream",
     "text": [
      "R2 score for model Performance on Train :  97.0\n"
     ]
    }
   ],
   "source": [
    "from sklearn.metrics import r2_score\n",
    "r2 = r2_score(train.Weight,train.fitted_value)\n",
    "print('R2 score for model Performance on Train : ', np.round(r2,2)*100)"
   ]
  },
  {
   "cell_type": "markdown",
   "id": "6c5a75d5",
   "metadata": {},
   "source": [
    "# Assumption of Linear Regression"
   ]
  },
  {
   "cell_type": "code",
   "execution_count": 53,
   "id": "9dd671c8",
   "metadata": {},
   "outputs": [
    {
     "data": {
      "text/plain": [
       "<Axes: title={'center': 'Weight vs Width'}, xlabel='Width', ylabel='Weight'>"
      ]
     },
     "execution_count": 53,
     "metadata": {},
     "output_type": "execute_result"
    },
    {
     "data": {
      "image/png": "[encoded data removed]",
      "text/plain": [
       "<Figure size 640x480 with 1 Axes>"
      ]
     },
     "metadata": {},
     "output_type": "display_data"
    }
   ],
   "source": [
    "\n",
    "fish.plot.scatter(x='Width', y='Weight', title='Weight vs Width')\n"
   ]
  },
  {
   "cell_type": "markdown",
   "id": "545340c3",
   "metadata": {},
   "source": [
    "There is positive correlation between Height and Length3"
   ]
  },
  {
   "cell_type": "markdown",
   "id": "6422afd6",
   "metadata": {},
   "source": [
    "# Homoscedasicity"
   ]
  },
  {
   "cell_type": "code",
   "execution_count": 54,
   "id": "56b3aa82",
   "metadata": {},
   "outputs": [
    {
     "data": {
      "text/plain": [
       "<Axes: xlabel='fitted_value', ylabel='Residual'>"
      ]
     },
     "execution_count": 54,
     "metadata": {},
     "output_type": "execute_result"
    },
    {
     "data": {
      "image/png": "[encoded data removed]",
      "text/plain": [
       "<Figure size 640x480 with 1 Axes>"
      ]
     },
     "metadata": {},
     "output_type": "display_data"
    }
   ],
   "source": [
    "sns.scatterplot(x='fitted_value', y='Residual',data=train)"
   ]
  },
  {
   "cell_type": "code",
   "execution_count": 55,
   "id": "c4668aa9",
   "metadata": {},
   "outputs": [
    {
     "data": {
      "image/png": "[encoded data removed]",
      "text/plain": [
       "<Figure size 640x480 with 1 Axes>"
      ]
     },
     "metadata": {},
     "output_type": "display_data"
    }
   ],
   "source": [
    "import statsmodels.api as sm\n",
    "from matplotlib import pyplot as plt\n",
    "\n",
    "fig = sm.qqplot(train['Residual'], fit=True, line='s') # s indicate standardized line\n",
    "plt.show()"
   ]
  },
  {
   "cell_type": "markdown",
   "id": "4345fc53",
   "metadata": {},
   "source": [
    "sample quantiles and Thepretical quantile follows thw normality"
   ]
  },
  {
   "cell_type": "code",
   "execution_count": 56,
   "id": "9e2faba9",
   "metadata": {},
   "outputs": [
    {
     "data": {
      "text/plain": [
       "<Axes: ylabel='Frequency'>"
      ]
     },
     "execution_count": 56,
     "metadata": {},
     "output_type": "execute_result"
    },
    {
     "data": {
      "image/png": "[encoded data removed]",
      "text/plain": [
       "<Figure size 640x480 with 1 Axes>"
      ]
     },
     "metadata": {},
     "output_type": "display_data"
    }
   ],
   "source": [
    "train['Residual'].plot.hist()"
   ]
  },
  {
   "cell_type": "code",
   "execution_count": 57,
   "id": "218fe0eb",
   "metadata": {},
   "outputs": [
    {
     "name": "stderr",
     "output_type": "stream",
     "text": [
      "C:\\Users\\Dell\\AppData\\Local\\Temp\\ipykernel_7412\\1687080682.py:1: UserWarning: \n",
      "\n",
      "`distplot` is a deprecated function and will be removed in seaborn v0.14.0.\n",
      "\n",
      "Please adapt your code to use either `displot` (a figure-level function with\n",
      "similar flexibility) or `histplot` (an axes-level function for histograms).\n",
      "\n",
      "For a guide to updating your code to use the new functions, please see\n",
      "https://gist.github.com/mwaskom/de44147ed2974457ad6372750bbe5751\n",
      "\n",
      "  ax = sns.distplot(train.Residual)\n"
     ]
    },
    {
     "data": {
      "image/png": "[encoded data removed]",
      "text/plain": [
       "<Figure size 640x480 with 1 Axes>"
      ]
     },
     "metadata": {},
     "output_type": "display_data"
    }
   ],
   "source": [
    "ax = sns.distplot(train.Residual) "
   ]
  },
  {
   "cell_type": "markdown",
   "id": "1bb576a1",
   "metadata": {},
   "source": [
    "# Prediction on Test"
   ]
  },
  {
   "cell_type": "code",
   "execution_count": 58,
   "id": "058ce023",
   "metadata": {},
   "outputs": [
    {
     "data": {
      "text/html": [
       "<div>\n",
       "<style scoped>\n",
       "    .dataframe tbody tr th:only-of-type {\n",
       "        vertical-align: middle;\n",
       "    }\n",
       "\n",
       "    .dataframe tbody tr th {\n",
       "        vertical-align: top;\n",
       "    }\n",
       "\n",
       "    .dataframe thead th {\n",
       "        text-align: right;\n",
       "    }\n",
       "</style>\n",
       "<table border=\"1\" class=\"dataframe\">\n",
       "  <thead>\n",
       "    <tr style=\"text-align: right;\">\n",
       "      <th></th>\n",
       "      <th>Length1</th>\n",
       "      <th>Length2</th>\n",
       "      <th>Height</th>\n",
       "      <th>Width</th>\n",
       "    </tr>\n",
       "  </thead>\n",
       "  <tbody>\n",
       "    <tr>\n",
       "      <th>49</th>\n",
       "      <td>22.0</td>\n",
       "      <td>23.4</td>\n",
       "      <td>6.9153</td>\n",
       "      <td>3.6312</td>\n",
       "    </tr>\n",
       "    <tr>\n",
       "      <th>8</th>\n",
       "      <td>27.6</td>\n",
       "      <td>30.0</td>\n",
       "      <td>14.0049</td>\n",
       "      <td>4.8438</td>\n",
       "    </tr>\n",
       "    <tr>\n",
       "      <th>45</th>\n",
       "      <td>20.5</td>\n",
       "      <td>22.5</td>\n",
       "      <td>7.0334</td>\n",
       "      <td>3.8203</td>\n",
       "    </tr>\n",
       "    <tr>\n",
       "      <th>14</th>\n",
       "      <td>29.4</td>\n",
       "      <td>32.0</td>\n",
       "      <td>14.9544</td>\n",
       "      <td>5.1708</td>\n",
       "    </tr>\n",
       "    <tr>\n",
       "      <th>116</th>\n",
       "      <td>36.5</td>\n",
       "      <td>39.0</td>\n",
       "      <td>11.1366</td>\n",
       "      <td>7.4934</td>\n",
       "    </tr>\n",
       "  </tbody>\n",
       "</table>\n",
       "</div>"
      ],
      "text/plain": [
       "     Length1  Length2   Height   Width\n",
       "49      22.0     23.4   6.9153  3.6312\n",
       "8       27.6     30.0  14.0049  4.8438\n",
       "45      20.5     22.5   7.0334  3.8203\n",
       "14      29.4     32.0  14.9544  5.1708\n",
       "116     36.5     39.0  11.1366  7.4934"
      ]
     },
     "execution_count": 58,
     "metadata": {},
     "output_type": "execute_result"
    }
   ],
   "source": [
    "X_test = X_test.loc[:,['Length1','Length2','Height','Width']]\n",
    "X_test.head()"
   ]
  },
  {
   "cell_type": "code",
   "execution_count": 59,
   "id": "91ba9c3b",
   "metadata": {},
   "outputs": [
    {
     "data": {
      "text/html": [
       "<div>\n",
       "<style scoped>\n",
       "    .dataframe tbody tr th:only-of-type {\n",
       "        vertical-align: middle;\n",
       "    }\n",
       "\n",
       "    .dataframe tbody tr th {\n",
       "        vertical-align: top;\n",
       "    }\n",
       "\n",
       "    .dataframe thead th {\n",
       "        text-align: right;\n",
       "    }\n",
       "</style>\n",
       "<table border=\"1\" class=\"dataframe\">\n",
       "  <thead>\n",
       "    <tr style=\"text-align: right;\">\n",
       "      <th></th>\n",
       "      <th>Weight</th>\n",
       "      <th>Length1</th>\n",
       "      <th>Length2</th>\n",
       "      <th>Height</th>\n",
       "      <th>Width</th>\n",
       "    </tr>\n",
       "  </thead>\n",
       "  <tbody>\n",
       "    <tr>\n",
       "      <th>49</th>\n",
       "      <td>12.688578</td>\n",
       "      <td>22.0</td>\n",
       "      <td>23.4</td>\n",
       "      <td>6.9153</td>\n",
       "      <td>3.6312</td>\n",
       "    </tr>\n",
       "    <tr>\n",
       "      <th>8</th>\n",
       "      <td>21.213203</td>\n",
       "      <td>27.6</td>\n",
       "      <td>30.0</td>\n",
       "      <td>14.0049</td>\n",
       "      <td>4.8438</td>\n",
       "    </tr>\n",
       "    <tr>\n",
       "      <th>45</th>\n",
       "      <td>12.649111</td>\n",
       "      <td>20.5</td>\n",
       "      <td>22.5</td>\n",
       "      <td>7.0334</td>\n",
       "      <td>3.8203</td>\n",
       "    </tr>\n",
       "    <tr>\n",
       "      <th>14</th>\n",
       "      <td>24.494897</td>\n",
       "      <td>29.4</td>\n",
       "      <td>32.0</td>\n",
       "      <td>14.9544</td>\n",
       "      <td>5.1708</td>\n",
       "    </tr>\n",
       "    <tr>\n",
       "      <th>116</th>\n",
       "      <td>30.000000</td>\n",
       "      <td>36.5</td>\n",
       "      <td>39.0</td>\n",
       "      <td>11.1366</td>\n",
       "      <td>7.4934</td>\n",
       "    </tr>\n",
       "  </tbody>\n",
       "</table>\n",
       "</div>"
      ],
      "text/plain": [
       "        Weight  Length1  Length2   Height   Width\n",
       "49   12.688578     22.0     23.4   6.9153  3.6312\n",
       "8    21.213203     27.6     30.0  14.0049  4.8438\n",
       "45   12.649111     20.5     22.5   7.0334  3.8203\n",
       "14   24.494897     29.4     32.0  14.9544  5.1708\n",
       "116  30.000000     36.5     39.0  11.1366  7.4934"
      ]
     },
     "execution_count": 59,
     "metadata": {},
     "output_type": "execute_result"
    }
   ],
   "source": [
    "test = pd.concat([y_test, X_test], axis=1)\n",
    "test.head()"
   ]
  },
  {
   "cell_type": "code",
   "execution_count": 60,
   "id": "4c0952f1",
   "metadata": {},
   "outputs": [
    {
     "data": {
      "text/html": [
       "<div>\n",
       "<style scoped>\n",
       "    .dataframe tbody tr th:only-of-type {\n",
       "        vertical-align: middle;\n",
       "    }\n",
       "\n",
       "    .dataframe tbody tr th {\n",
       "        vertical-align: top;\n",
       "    }\n",
       "\n",
       "    .dataframe thead th {\n",
       "        text-align: right;\n",
       "    }\n",
       "</style>\n",
       "<table border=\"1\" class=\"dataframe\">\n",
       "  <thead>\n",
       "    <tr style=\"text-align: right;\">\n",
       "      <th></th>\n",
       "      <th>Weight</th>\n",
       "      <th>Length1</th>\n",
       "      <th>Length2</th>\n",
       "      <th>Height</th>\n",
       "      <th>Width</th>\n",
       "      <th>Prediction</th>\n",
       "      <th>Residual</th>\n",
       "    </tr>\n",
       "  </thead>\n",
       "  <tbody>\n",
       "    <tr>\n",
       "      <th>49</th>\n",
       "      <td>12.688578</td>\n",
       "      <td>22.0</td>\n",
       "      <td>23.4</td>\n",
       "      <td>6.9153</td>\n",
       "      <td>3.6312</td>\n",
       "      <td>13.37</td>\n",
       "      <td>-0.68</td>\n",
       "    </tr>\n",
       "    <tr>\n",
       "      <th>8</th>\n",
       "      <td>21.213203</td>\n",
       "      <td>27.6</td>\n",
       "      <td>30.0</td>\n",
       "      <td>14.0049</td>\n",
       "      <td>4.8438</td>\n",
       "      <td>21.50</td>\n",
       "      <td>-0.29</td>\n",
       "    </tr>\n",
       "    <tr>\n",
       "      <th>45</th>\n",
       "      <td>12.649111</td>\n",
       "      <td>20.5</td>\n",
       "      <td>22.5</td>\n",
       "      <td>7.0334</td>\n",
       "      <td>3.8203</td>\n",
       "      <td>12.92</td>\n",
       "      <td>-0.27</td>\n",
       "    </tr>\n",
       "    <tr>\n",
       "      <th>14</th>\n",
       "      <td>24.494897</td>\n",
       "      <td>29.4</td>\n",
       "      <td>32.0</td>\n",
       "      <td>14.9544</td>\n",
       "      <td>5.1708</td>\n",
       "      <td>23.37</td>\n",
       "      <td>1.12</td>\n",
       "    </tr>\n",
       "    <tr>\n",
       "      <th>116</th>\n",
       "      <td>30.000000</td>\n",
       "      <td>36.5</td>\n",
       "      <td>39.0</td>\n",
       "      <td>11.1366</td>\n",
       "      <td>7.4934</td>\n",
       "      <td>29.09</td>\n",
       "      <td>0.91</td>\n",
       "    </tr>\n",
       "  </tbody>\n",
       "</table>\n",
       "</div>"
      ],
      "text/plain": [
       "        Weight  Length1  Length2   Height   Width  Prediction  Residual\n",
       "49   12.688578     22.0     23.4   6.9153  3.6312       13.37     -0.68\n",
       "8    21.213203     27.6     30.0  14.0049  4.8438       21.50     -0.29\n",
       "45   12.649111     20.5     22.5   7.0334  3.8203       12.92     -0.27\n",
       "14   24.494897     29.4     32.0  14.9544  5.1708       23.37      1.12\n",
       "116  30.000000     36.5     39.0  11.1366  7.4934       29.09      0.91"
      ]
     },
     "execution_count": 60,
     "metadata": {},
     "output_type": "execute_result"
    }
   ],
   "source": [
    "import numpy as np\n",
    "test['Prediction'] = np.round(Model3.predict(X_test),2)\n",
    "test['Residual'] = np.round(test.Weight - test.Prediction,2)\n",
    "test.head()"
   ]
  },
  {
   "cell_type": "markdown",
   "id": "b43b760d",
   "metadata": {},
   "source": [
    "# Answer 4:"
   ]
  },
  {
   "cell_type": "markdown",
   "id": "8d24e258",
   "metadata": {},
   "source": [
    "Loss Function -- RMSE"
   ]
  },
  {
   "cell_type": "code",
   "execution_count": 65,
   "id": "f3be8b5c",
   "metadata": {},
   "outputs": [
    {
     "name": "stdout",
     "output_type": "stream",
     "text": [
      "RMSE of Train Data :  2.6\n"
     ]
    }
   ],
   "source": [
    "from sklearn.metrics import mean_squared_error \n",
    "\n",
    "model_mse = mean_squared_error(train['Weight'],train['fitted_value'])\n",
    "model_rmse = np.sqrt(model_mse)**2\n",
    "\n",
    "print(\"RMSE of Train Data : \",np.round(model_rmse,2)) #21"
   ]
  },
  {
   "cell_type": "code",
   "execution_count": 66,
   "id": "3c8db9c7",
   "metadata": {},
   "outputs": [
    {
     "name": "stdout",
     "output_type": "stream",
     "text": [
      "RMSE of Test Data :  1.45\n"
     ]
    }
   ],
   "source": [
    "model_mse = mean_squared_error(test['Weight'],test['Prediction'])\n",
    "model_rmse = np.sqrt(model_mse)**2\n",
    "\n",
    "print(\"RMSE of Test Data : \",np.round(model_rmse,2)) #21"
   ]
  },
  {
   "cell_type": "markdown",
   "id": "a8659b91",
   "metadata": {},
   "source": [
    "# Mean score of model in between 2.6 to 1.45"
   ]
  },
  {
   "cell_type": "markdown",
   "id": "fec7e176",
   "metadata": {},
   "source": [
    "# answer 5:"
   ]
  },
  {
   "cell_type": "markdown",
   "id": "a1dbfb45",
   "metadata": {},
   "source": [
    "# Comparision"
   ]
  },
  {
   "cell_type": "code",
   "execution_count": 63,
   "id": "22f95987",
   "metadata": {},
   "outputs": [
    {
     "name": "stdout",
     "output_type": "stream",
     "text": [
      "R2 score for model Performance on Train :  97.0\n"
     ]
    }
   ],
   "source": [
    "from sklearn.metrics import r2_score\n",
    "r2 = r2_score(train.Weight,train.fitted_value)\n",
    "print('R2 score for model Performance on Train : ', np.round(r2,2)*100)"
   ]
  },
  {
   "cell_type": "code",
   "execution_count": 64,
   "id": "190135a9",
   "metadata": {},
   "outputs": [
    {
     "name": "stdout",
     "output_type": "stream",
     "text": [
      "R2 score for model Performance on Test :  98.0\n"
     ]
    }
   ],
   "source": [
    "r2 = r2_score(test.Weight,test.Prediction)\n",
    "print('R2 score for model Performance on Test : ', np.round(r2,2)*100)"
   ]
  },
  {
   "cell_type": "markdown",
   "id": "1deb7cf5",
   "metadata": {},
   "source": [
    "# conclusion\n",
    "\n",
    "Model is good fit on Train dataset & Performance of model on Test data is also good fit"
   ]
  }
 ],
 "metadata": {
  "kernelspec": {
   "display_name": "Python 3 (ipykernel)",
   "language": "python",
   "name": "python3"
  },
  "language_info": {
   "codemirror_mode": {
    "name": "ipython",
    "version": 3
   },
   "file_extension": ".py",
   "mimetype": "text/x-python",
   "name": "python",
   "nbconvert_exporter": "python",
   "pygments_lexer": "ipython3",
   "version": "3.11.5"
  }
 },
 "nbformat": 4,
 "nbformat_minor": 5
}
